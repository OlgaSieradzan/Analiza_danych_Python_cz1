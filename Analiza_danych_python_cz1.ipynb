{
 "cells": [
  {
   "cell_type": "markdown",
   "metadata": {},
   "source": [
    "# Analiza danych Python \n",
    "\n",
    "## Zestaw zadań nr.1"
   ]
  },
  {
   "cell_type": "markdown",
   "metadata": {},
   "source": [
    "1. Zdefiniować zmienne o nazwach pierwsza i druga. Obie zmienne powinny się składać z ośmiu dowolnych obiektów, a każdy obiekt ma być cyfrą. \n",
    "Używamy metody numpy.array() do stworzenia jednowymiarowej tablicy, czyli wektora. \n",
    "**Pamiętaj** na poczatku trzeba zdefiniować liste a następnie użyć funkcji np.array\n",
    "\n",
    "\n"
   ]
  },
  {
   "cell_type": "code",
   "execution_count": 23,
   "metadata": {},
   "outputs": [],
   "source": [
    "import numpy as np\n",
    "\n",
    "lista1 = [1,3,4,3,2,3,5,9]\n",
    "lista2 = [22,55,4,3,2,3,5,9]\n",
    "\n",
    "pierwsza = np.array (lista1)\n",
    "\n",
    "druga = np.array (lista2)"
   ]
  },
  {
   "cell_type": "markdown",
   "metadata": {},
   "source": [
    "2. Wyznaczyć zmienną suma, która jest wynikiem działania: pierwsza + druga, zmienna różnica, która jest wynikiem działania: pierwsza - druga oraz zmienną wiecej, która jest wynikiem działania: pierwsza + 1"
   ]
  },
  {
   "cell_type": "code",
   "execution_count": 24,
   "metadata": {},
   "outputs": [
    {
     "name": "stdout",
     "output_type": "stream",
     "text": [
      "Suma równa się [23 58  8  6  4  6 10 18],\n",
      "różnica równa się [-21 -52   0   0   0   0   0   0],\n",
      "pierwszy wektor powiększony o 1 równa się [ 2  4  5  4  3  4  6 10]\n"
     ]
    }
   ],
   "source": [
    "suma = pierwsza + druga \n",
    "\n",
    "różnica = pierwsza - druga\n",
    "\n",
    "więcej = pierwsza +1 \n",
    "\n",
    "print(f\"Suma równa się {suma},\\nróżnica równa się {różnica},\\npierwszy wektor powiększony o 1 równa się {więcej}\")"
   ]
  },
  {
   "cell_type": "markdown",
   "metadata": {},
   "source": [
    "3. Wyznacz podstawowe statystyki opisowe wektorów pierwsza i druga"
   ]
  },
  {
   "cell_type": "code",
   "execution_count": 25,
   "metadata": {},
   "outputs": [
    {
     "name": "stdout",
     "output_type": "stream",
     "text": [
      "statystyki opisowe dla pierwszego wektora count    8.000000\n",
      "mean     3.750000\n",
      "std      2.434866\n",
      "min      1.000000\n",
      "25%      2.750000\n",
      "50%      3.000000\n",
      "75%      4.250000\n",
      "max      9.000000\n",
      "dtype: float64,\n",
      "staytysyki opisowe dla drugiego wektora count     8.000000\n",
      "mean     12.875000\n",
      "std      18.232134\n",
      "min       2.000000\n",
      "25%       3.000000\n",
      "50%       4.500000\n",
      "75%      12.250000\n",
      "max      55.000000\n",
      "dtype: float64\n"
     ]
    }
   ],
   "source": [
    "import pandas as pd \n",
    "\n",
    "## W celu uzycia funkcji desribe() potrzeba zmienić numpay.array na pandas.Series lub Data.frame\n",
    "\n",
    "pierwsza_1 =pd.Series(pierwsza)\n",
    "druga_1 = pd.Series(druga)\n",
    "\n",
    "wyniki1 = pierwsza_1.describe()\n",
    "\n",
    "wyniki2 = druga_1.describe()\n",
    "\n",
    "print(f\"statystyki opisowe dla pierwszego wektora {wyniki1},\\nstaytysyki opisowe dla drugiego wektora {wyniki2}\")"
   ]
  },
  {
   "cell_type": "markdown",
   "metadata": {},
   "source": [
    "4. Stworzyć ramkę danych o nazwie osoby, która składa się z siedmiu obserwacji i dwóch zmiennych: wzrost i waga."
   ]
  },
  {
   "cell_type": "code",
   "execution_count": 38,
   "metadata": {},
   "outputs": [
    {
     "name": "stdout",
     "output_type": "stream",
     "text": [
      "Osoby z bmi powyżej 22\n",
      "        wzrost  waga        BMI\n",
      "Marcin     165    78  28.650138\n",
      "Paweł      176    69  22.275310\n",
      "Michał     187    98  28.024822\n",
      "Darek      190    88  24.376731\n",
      "Liczba osób z BMI poniżej 25: 5\n"
     ]
    }
   ],
   "source": [
    "dane = {\n",
    "    \"wzrost\": [220,165,180,176,155,187,190],\n",
    "    \"waga\" : [100,78,67,69,45,98,88]   \n",
    "}\n",
    "\n",
    "Osoby = pd.DataFrame(dane)\n",
    "\n",
    "# Nadanie Osobą imion ( zmiana nazw wierszy)\n",
    "\n",
    "Osoby.index = ['Janek', 'Marcin','Ola','Paweł','Kasia','Michał','Darek']\n",
    "\n",
    "bmi = Osoby['waga'] / ((Osoby['wzrost'] / 100) ** 2) # UWAGA, potegowanie dokonujemy za pomoća dwóch gwiazdek\n",
    "\n",
    "Osoby['BMI'] = bmi\n",
    "\n",
    "# Przefiltrowawnie ramki tak aby wyświetlono tylko osoby z bmi powyżej 22\n",
    "print(\"Osoby z bmi powyżej 22\")\n",
    "print(Osoby[Osoby['BMI'] > 22])\n",
    "\n",
    "# Suma osób z bmi poniżej 25\n",
    "\n",
    "liczba_osob_z_bmi_ponizej_25 = Osoby[Osoby['BMI'] < 25].shape[0]\n",
    "\n",
    "print(f\"Liczba osób z BMI poniżej 25: {liczba_osob_z_bmi_ponizej_25}\")\n"
   ]
  }
 ],
 "metadata": {
  "kernelspec": {
   "display_name": "myenv",
   "language": "python",
   "name": "python3"
  },
  "language_info": {
   "codemirror_mode": {
    "name": "ipython",
    "version": 3
   },
   "file_extension": ".py",
   "mimetype": "text/x-python",
   "name": "python",
   "nbconvert_exporter": "python",
   "pygments_lexer": "ipython3",
   "version": "3.9.19"
  }
 },
 "nbformat": 4,
 "nbformat_minor": 2
}
